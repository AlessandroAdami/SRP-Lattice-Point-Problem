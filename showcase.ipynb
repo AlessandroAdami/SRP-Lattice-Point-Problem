{
 "cells": [
  {
   "cell_type": "markdown",
   "id": "2c543065",
   "metadata": {},
   "source": [
    "## Summer Reading Program (Lattice Point Problem)\n",
    "\n",
    "# About\n",
    "\n",
    "This work was done during the summer reading program (SRP) at the University of British Columbia Mathematics department. The aim of the SRP is to introduce undergraduate students to topics that usually are not covered until graduate level. The topic we specifically devled into is the lattice point problem (LPP).\n",
    "\n",
    "# Lattice Point Problem\n",
    "\n",
    "The problem can be describe as below. Let $tD$ be the disk of radius $t$ in the $\\R^2$ plane (i.e. $D$ is the unit disk, etc.). Let\n",
    "\n",
    "$$N(t) := \\#\\{tD \\cap \\Z^2\\}.$$\n",
    "\n",
    "So $N(t)$ is the number of lattice points contained in the disk of radius $t$. Intuitively, $N(t) \\approx \\pi t^2$ or $N(t) = \\pi t^2 + E(t)$. The goal is then to find a bound for $E(t)$. This version of problem (also referred to as the \"Gauss Circle\" problem) is the one we focused on, but there are many different version that consider other shapes and dimensions.\n",
    "\n",
    "![Demo Animation](media/gifs/tCircle.gif)"
   ]
  },
  {
   "cell_type": "markdown",
   "id": "ee7e1dbc",
   "metadata": {},
   "source": [
    "The goal of modern research on the topic is to find a bound on $E(t)$. Godfrey Harold Hardy, a British mathematician of the 19-20th century, conjectured that the bound is \n",
    "$$|E(t)| \\leq C_\\epsilon t^{\\frac{1}{2}+\\epsilon}$$\n",
    "\n",
    "for any $\\epsilon>0$. Currently, the best bound we know of is $E(t) \\leq Ct^q$, with \n",
    "\n",
    "$$\\frac{1}{2} < q \\leq \\theta,$$\n",
    "\n",
    "where $\\theta \\approx 0.3144$ and $-\\theta$ is the unique solution to the equation\n",
    "$$-\\frac{8}{25}x-\\frac{1}{200}\\left(\\sqrt{2(1-14x)}-5\\sqrt{-1-8x}\\right)^2+\\frac{51}{200} = -x.$$\n",
    "The lower bound was found by Hardy in 1915, and the upper bound by Xiaochun Li and Xuerui Yang in 2023 (look at SRP_Report.pdf for more information)."
   ]
  },
  {
   "cell_type": "markdown",
   "id": "a8614f9e",
   "metadata": {},
   "source": [
    "Our reading was based on Alex Iosevich's \"A View from the Top:  Analysis, Combinatorics and Number Theory\", specifically chapters 11 and 12. The endpoint and goal of those chapter is to prove a theorem established by Wacław Sierpiński in 1903: \n",
    "\n",
    "$$|E(t)| \\leq Ct^\\frac{2}{3}$$\n",
    "\n",
    "binding the aforementioned error term."
   ]
  },
  {
   "cell_type": "markdown",
   "id": "041a7f3a",
   "metadata": {},
   "source": [
    "**Exercise 12.2 form Alex Iosevich's book.** \n",
    "\n",
    "Let $\\chi_tD(x):\\Z^2 \\to \\{0,1\\}$ s.t. $\\chi_tD(x) = 1$ if $x$ is in the disk of radius $t$ centered at $(0,0)$ in the $\\Z^2$, and $0$ otherwise. Define\n",
    "\n",
    "\\begin{align}\n",
    "    N(t) &= \\sum_{n\\in\\Z^2} \\chi_t D(n) \\\\\n",
    "    N_x(t) &= \\sum_{n\\in\\Z^2} \\chi_t D(x-n)\n",
    "\\end{align}\n",
    "\n",
    "For $x\\in\\R^2$. Our goal is to show that $(2)$ is a periodic function. More explicitly, $N(t)_x = N(t)_{x+m}$ for any $m\\in\\Z^2$.\n",
    "\n",
    "\\begin{align*}\n",
    "    N(t)_{x+m} &= \\sum_{n\\in\\Z^2} \\chi_tD(x+m-n) \\\\\n",
    "    &= \\sum_{l\\in\\Z^2} \\chi_tD(x-l) &\\text{Let $l = n-m\\in\\Z^2$}\\\\\n",
    "    &= \\sum_{n\\in\\Z^2} \\chi_tD(x-n) = N_x(t)\n",
    "\\end{align*}\n",
    "\n",
    "![Demo Animation Two](media/gifs/LatticeTranslation.gif)"
   ]
  },
  {
   "cell_type": "markdown",
   "id": "cba706e9",
   "metadata": {},
   "source": [
    "If we change the coordinates of our center $x$ (in $\\R^2$) by integer values, the disk at the new center contains the same number of lattice points as the one before the move."
   ]
  },
  {
   "cell_type": "markdown",
   "id": "94da292c",
   "metadata": {},
   "source": [
    "## Local Video (MP4)\n",
    "This embedded video will work in local Jupyter environments, but **won't show on GitHub**:\n",
    "\n",
    "<video width=\"600\" controls>\n",
    "  <source src=\"media/videos/main/480p15/LPP.mp4\" type=\"video/mp4\">\n",
    "  Your browser does not support the video tag.\n",
    "</video>"
   ]
  }
 ],
 "metadata": {
  "kernelspec": {
   "display_name": "Python 3 (ipykernel)",
   "language": "python",
   "name": "python3"
  }
 },
 "nbformat": 4,
 "nbformat_minor": 5
}
